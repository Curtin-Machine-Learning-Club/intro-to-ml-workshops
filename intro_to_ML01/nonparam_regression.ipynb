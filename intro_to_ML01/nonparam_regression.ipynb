{
  "cells": [
    {
      "cell_type": "code",
      "execution_count": null,
      "metadata": {
        "collapsed": false
      },
      "outputs": [],
      "source": [
        "%matplotlib inline"
      ]
    },
    {
      "cell_type": "markdown",
      "metadata": {},
      "source": [
        "# Exponential Regression Example\n",
        "\n",
        "Now let's try to find an exponential model for salaries."
      ]
    },
    {
      "cell_type": "markdown",
      "metadata": {},
      "source": [
        "## Installation\n",
        "\n",
        "First, let's install the required libraries then import them:"
      ]
    },
    {
      "cell_type": "code",
      "execution_count": null,
      "metadata": {},
      "outputs": [],
      "source": [
        "%pip install matplotlib\n",
        "%pip install numpy\n",
        "%pip install sklearn\n",
        "%pip install pandas"
      ]
    },
    {
      "cell_type": "code",
      "execution_count": null,
      "metadata": {},
      "outputs": [],
      "source": [
        "# Import the libraries\n",
        "import matplotlib.pyplot as plt\n",
        "import numpy as np\n",
        "import pandas as pd\n",
        "from sklearn.linear_model import LinearRegression\n",
        "from sklearn.preprocessing import PolynomialFeatures\n",
        "from sklearn.metrics import mean_squared_error, r2_score"
      ]
    },
    {
      "cell_type": "markdown",
      "metadata": {},
      "source": [
        "## Viewing the data\n",
        "\n",
        "Next, let's see the data we're working with"
      ]
    },
    {
      "cell_type": "code",
      "execution_count": null,
      "metadata": {},
      "outputs": [],
      "source": [
        "# Load the diabetes dataset\n",
        "pos_salaries = pd.read_csv(\"https://raw.githubusercontent.com/2blam/ML/master/decision_tree_regression/Position_Salaries.csv\")"
      ]
    },
    {
      "cell_type": "code",
      "execution_count": null,
      "metadata": {},
      "outputs": [],
      "source": [
        "pos_salaries.head()"
      ]
    },
    {
      "cell_type": "markdown",
      "metadata": {},
      "source": [
        "## Choosing our input\n",
        "\n",
        "Let's use the level as our input feature and the salary as the output feature."
      ]
    },
    {
      "cell_type": "code",
      "execution_count": null,
      "metadata": {},
      "outputs": [],
      "source": [
        "# Create a variable called level and assign it the Level column\n",
        "level = pos_salaries['Level'].to_numpy()\n",
        "# Create a variable called salary and assign it the Salary column\n",
        "salary = pos_salaries[\"Salary\"].to_numpy() / 10e3"
      ]
    },
    {
      "cell_type": "markdown",
      "metadata": {},
      "source": [
        "<details><summary>Click to cheat</summary>\n",
        "\n",
        "```python\n",
        "# Create a variable called level and assign it the Level column\n",
        "level = pos_salaries['Level'].to_numpy()\n",
        "# Create a variable called salary and assign it the Salary column\n",
        "salary = pos_salaries[\"Salary\"].to_numpy()\n",
        "```\n",
        "</details>"
      ]
    },
    {
      "cell_type": "markdown",
      "metadata": {},
      "source": [
        "## Plot the data\n",
        "Let's plot the data to see what it looks like."
      ]
    },
    {
      "cell_type": "code",
      "execution_count": null,
      "metadata": {},
      "outputs": [],
      "source": [
        "plt.scatter(level, salary)\n",
        "plt.xlabel(\"Level\")\n",
        "plt.ylabel(\"Salary (Thousands)\")\n",
        "plt.show()"
      ]
    },
    {
      "cell_type": "markdown",
      "metadata": {},
      "source": [
        "## Creating the model"
      ]
    },
    {
      "cell_type": "code",
      "execution_count": null,
      "metadata": {},
      "outputs": [],
      "source": [
        "# Eyeball a bias\n",
        "\n",
        "# Guess a base or use Euler's number\n",
        "\n",
        "# Ignore small levels\n",
        "\n",
        "# Convert to linear\n",
        "\n",
        "# Get the predictions\n"
      ]
    },
    {
      "cell_type": "markdown",
      "metadata": {},
      "source": [
        "<details><summary>Click to cheat</summary>\n",
        "\n",
        "```python\n",
        "# Eyeball a bias\n",
        "bias = 42000 / 10e3\n",
        "\n",
        "# Guess a base or use Euler's number\n",
        "base = np.e\n",
        "\n",
        "# Ignore small levels\n",
        "level2 = level[level > 3]\n",
        "salary2 = salary[level > 3]\n",
        "\n",
        "# Convert to linear\n",
        "logSalary = np.log(salary2 - bias)\n",
        "model = LinearRegression().fit(level2.reshape((-1, 1)), salary2)\n",
        "w_2 = model.coef_[0]\n",
        "w_1 = base ** model.intercept_\n",
        "\n",
        "# Get the predictions\n",
        "salary_pred = w_1 * base ** (w_2 * level) + bias\n",
        "```\n",
        "</details>"
      ]
    },
    {
      "cell_type": "markdown",
      "metadata": {},
      "source": [
        "## Evaluting our model\n",
        "\n",
        "We can print the raw numbers and plot!"
      ]
    },
    {
      "cell_type": "code",
      "execution_count": null,
      "metadata": {},
      "outputs": [],
      "source": [
        "# The weights\n",
        "print(\"Weight 1:\", w_1, \", Weight 2:\", w_2)\n",
        "# The mean squared error\n",
        "print(\"Mean squared error: %.2f\" % mean_squared_error(salary, salary_pred))\n",
        "# The coefficient of determination: 1 is perfect prediction\n",
        "print(\"Coefficient of determination: %.2f\" % r2_score(salary, salary_pred))"
      ]
    },
    {
      "cell_type": "code",
      "execution_count": null,
      "metadata": {
        "collapsed": false
      },
      "outputs": [],
      "source": [
        "# Plot outputs\n",
        "plt.scatter(level, salary, color=\"black\")\n",
        "plt.scatter(level, salary_pred, color=\"green\")\n",
        "plt.plot(level, salary_pred, color=\"blue\", linewidth=1)\n",
        "\n",
        "plt.xlabel(\"Level\")\n",
        "plt.ylabel(\"Salary (Thousands)\")\n",
        "\n",
        "plt.show()"
      ]
    }
  ],
  "metadata": {
    "kernelspec": {
      "display_name": "Python 3",
      "language": "python",
      "name": "python3"
    },
    "language_info": {
      "codemirror_mode": {
        "name": "ipython",
        "version": 3
      },
      "file_extension": ".py",
      "mimetype": "text/x-python",
      "name": "python",
      "nbconvert_exporter": "python",
      "pygments_lexer": "ipython3",
      "version": "3.7.3"
    }
  },
  "nbformat": 4,
  "nbformat_minor": 0
}
