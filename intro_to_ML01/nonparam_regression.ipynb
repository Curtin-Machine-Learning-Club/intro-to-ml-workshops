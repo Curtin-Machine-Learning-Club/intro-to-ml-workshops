{
  "cells": [
    {
      "cell_type": "code",
      "execution_count": null,
      "metadata": {
        "collapsed": false
      },
      "outputs": [],
      "source": [
        "%matplotlib inline"
      ]
    },
    {
      "cell_type": "markdown",
      "metadata": {},
      "source": [
        "# Nonparametric Regression Example\n",
        "\n",
        "For more complicated models, we can use kernel regression."
      ]
    },
    {
      "cell_type": "markdown",
      "metadata": {},
      "source": [
        "## Installation\n",
        "\n",
        "First, let's install the required libraries then import them:"
      ]
    },
    {
      "cell_type": "code",
      "execution_count": null,
      "metadata": {},
      "outputs": [],
      "source": [
        "%pip install matplotlib\n",
        "%pip install numpy\n",
        "%pip install sklearn\n",
        "%pip install pandas"
      ]
    },
    {
      "cell_type": "code",
      "execution_count": null,
      "metadata": {},
      "outputs": [],
      "source": [
        "# Import the libraries\n",
        "import matplotlib.pyplot as plt\n",
        "import numpy as np\n",
        "import pandas as pd\n",
        "from sklearn.linear_model import LinearRegression\n",
        "from sklearn.preprocessing import PolynomialFeatures\n",
        "from sklearn.metrics import mean_squared_error, r2_score"
      ]
    },
    {
      "cell_type": "markdown",
      "metadata": {},
      "source": [
        "## Viewing the data\n",
        "\n",
        "Next, let's see the data we're working with"
      ]
    },
    {
      "cell_type": "code",
      "execution_count": null,
      "metadata": {},
      "outputs": [],
      "source": [
        "# Load the diabetes dataset\n",
        "earthquakes = pd.read_csv(\"https://raw.githubusercontent.com/Curtin-Machine-Learning-Club/intro-to-ml-workshops/main/data/earthquakes.txt\", delimiter='\\t')"
      ]
    },
    {
      "cell_type": "code",
      "execution_count": null,
      "metadata": {},
      "outputs": [],
      "source": [
        "earthquakes.head()"
      ]
    },
    {
      "cell_type": "markdown",
      "metadata": {},
      "source": [
        "## Choosing our input\n",
        "\n",
        "Let's use the year as our input feature and the quakes as the output feature."
      ]
    },
    {
      "cell_type": "code",
      "execution_count": null,
      "metadata": {},
      "outputs": [],
      "source": [
        "# Create a variable called year and assign it the Year column\n",
        "year = earthquakes[\"Year\"].to_numpy()\n",
        "# Create a variable called quakes and assign it the Quakes column\n",
        "quakes = earthquakes[\"Quakes\"].to_numpy()"
      ]
    },
    {
      "cell_type": "markdown",
      "metadata": {},
      "source": [
        "<details><summary>Click to cheat</summary>\n",
        "\n",
        "```python\n",
        "# Create a variable called year and assign it the Year column\n",
        "year = earthquakes[\"Year\"].to_numpy()\n",
        "# Create a variable called quakes and assign it the Quakes column\n",
        "quakes = earthquakes[\"Quakes\"].to_numpy()\n",
        "```\n",
        "</details>"
      ]
    },
    {
      "cell_type": "markdown",
      "metadata": {},
      "source": [
        "## Plot the data\n",
        "Let's plot the data to see what it looks like."
      ]
    },
    {
      "cell_type": "code",
      "execution_count": null,
      "metadata": {},
      "outputs": [],
      "source": [
        "plt.scatter(year, quakes)\n",
        "plt.xlabel(\"Year\")\n",
        "plt.ylabel(\"No. of Quakes\")\n",
        "plt.show()"
      ]
    },
    {
      "cell_type": "markdown",
      "metadata": {},
      "source": [
        "## Creating the model\n",
        "\n",
        "First, let's define our kernels, then pick one. Use a `lambda` function to simplify the kernel to one parameter."
      ]
    },
    {
      "cell_type": "code",
      "execution_count": null,
      "metadata": {},
      "outputs": [],
      "source": [
        "# Rectangular kernel (moving mean filter)\n",
        "def rect(x):\n",
        "    x2 = np.zeros(len(x), dtype=float)\n",
        "    x2[x == 0.5] = 0.5\n",
        "    x2[x == -0.5] = 0.5\n",
        "    x2[x < 0.5] = 1.0\n",
        "    x2[x > 0.5] = 1.0\n",
        "    return x2\n",
        "\n",
        "# Gaussian kernel\n",
        "def gauss(x, mean, sigma):\n",
        "    return np.e ** (-(x - mean) ** 2 / (2 * sigma * sigma)) / (sigma * np.sqrt(2 * np.pi))\n",
        "\n",
        "# Quartic kernel\n",
        "def quartic(x):\n",
        "    x2 = 15.0 / 16.0 * (1 - x * x) ** 2\n",
        "    x2[x > 1.0] = 0.0\n",
        "    x2[x < 1.0] = 0.0\n",
        "    return x2\n",
        "\n",
        "# Epanechnikov kernel\n",
        "def epanechnikov(x):\n",
        "    x2 = 3.0 / 4.0 * (1 - x * x)\n",
        "    x2[x > 1.0] = 0.0\n",
        "    x2[x < -1.0] = 0.0\n",
        "    return x2\n",
        "    \n",
        "# kernel = "
      ]
    },
    {
      "cell_type": "markdown",
      "metadata": {},
      "source": [
        "<details><summary>Click to cheat</summary>\n",
        "\n",
        "```python\n",
        "# Rectangular kernel\n",
        "kernel = rect\n",
        "\n",
        "# Gaussian kernel\n",
        "kernel = lambda x: gauss(x, 0.0, 1.0)\n",
        "\n",
        "# Quartic kernel\n",
        "kernel = quartic\n",
        "\n",
        "# Epanechnikov kernel\n",
        "kernel epanechnoikov\n",
        "```\n",
        "</details>"
      ]
    },
    {
      "cell_type": "markdown",
      "metadata": {},
      "source": [
        "Now run the `NadarayaWatson()` function to find your model."
      ]
    },
    {
      "cell_type": "code",
      "execution_count": null,
      "metadata": {},
      "outputs": [],
      "source": [
        "# Find the model using Nadaraya-Watson Kernel regression\n",
        "def NadarayaWatson(x, y, b, kernel):\n",
        "    n = len(x)\n",
        "    W = NadarayaWatsonWeights(x, b, kernel)\n",
        "    yHat = np.matmul(W, y.reshape((n, 1))) / n\n",
        "\n",
        "    return yHat\n",
        "\n",
        "def NadarayaWatsonWeights(x, b, kernel):\n",
        "    n = len(x)\n",
        "    W = np.zeros((n, n), dtype=float)\n",
        "\n",
        "    for i in range(n):\n",
        "        div = np.sum(kernel((x - x[i]) / b))\n",
        "        W[i,:] = kernel((x - x[i]) / b) * n / div\n",
        "    \n",
        "    return W\n",
        "\n",
        "# Select a bandwidth\n",
        "# b = \n",
        "\n",
        "# Call the NadarayaWatson function here with your data, bandwith, and kernel\n"
      ]
    },
    {
      "cell_type": "markdown",
      "metadata": {},
      "source": [
        "<details><summary>Click to cheat</summary>\n",
        "\n",
        "```python\n",
        "# Select a bandwidth\n",
        "b = 3.0\n",
        "\n",
        "# Call the NadarayaWatson function here with your data, bandwith, and kernel\n",
        "quakes_pred = NadarayaWatson(year, kes, b, kernel)\n",
        "```\n",
        "</details>"
      ]
    },
    {
      "cell_type": "markdown",
      "metadata": {},
      "source": [
        "## Evaluting our model\n",
        "\n",
        "We can print the raw numbers and plot!"
      ]
    },
    {
      "cell_type": "code",
      "execution_count": null,
      "metadata": {},
      "outputs": [],
      "source": [
        "# The mean squared error\n",
        "print(\"Mean squared error: %.2f\" % mean_squared_error(quakes, quakes_pred))\n",
        "# The coefficient of determination: 1 is perfect prediction\n",
        "print(\"Coefficient of determination: %.2f\" % r2_score(quakes, quakes_pred))"
      ]
    },
    {
      "cell_type": "code",
      "execution_count": null,
      "metadata": {
        "collapsed": false
      },
      "outputs": [],
      "source": [
        "# Plot outputs\n",
        "plt.scatter(year, quakes, color=\"black\")\n",
        "plt.scatter(year, quakes_pred, color=\"green\")\n",
        "plt.plot(year, quakes_pred, color=\"blue\", linewidth=1)\n",
        "\n",
        "plt.xlabel(\"Year\")\n",
        "plt.ylabel(\"No. of Quakes\")\n",
        "\n",
        "plt.show()"
      ]
    },
    {
      "cell_type": "markdown",
      "metadata": {},
      "source": [
        "Finally, let's try a bunch of different bandwidths and kernels"
      ]
    },
    {
      "cell_type": "code",
      "execution_count": null,
      "metadata": {},
      "outputs": [],
      "source": [
        "kernels = [rect, quartic, lambda x: gauss(x, 0.0, 1.0), epanechnikov]\n",
        "colors = [\"blue\", \"red\", \"green\", \"gold\"]\n",
        "b = 3.0\n",
        "\n",
        "plt.scatter(year, quakes, color=\"black\")\n",
        "\n",
        "for kernel, color in zip(kernels, colors):\n",
        "    quakes_pred = NadarayaWatson(year, quakes, b, kernel)\n",
        "    plt.plot(year, quakes_pred, color=color)\n",
        "\n",
        "plt.legend([\"Data\", \"Rect\", \"Quartic\", \"Gauss\", \"Epan\"])\n",
        "plt.show()"
      ]
    },
    {
      "cell_type": "code",
      "execution_count": null,
      "metadata": {},
      "outputs": [],
      "source": [
        "kernel = lambda x: gauss(x, 0.0, 1.0)\n",
        "bandwidths = [0.5, 1.0, 5.0, 10.0]\n",
        "colors = [\"blue\", \"red\", \"green\", \"gold\"]\n",
        "\n",
        "plt.scatter(year, quakes, color=\"black\")\n",
        "\n",
        "for b, color in zip(bandwidths, colors):\n",
        "    quakes_pred = NadarayaWatson(year, quakes, b, kernel)\n",
        "    plt.plot(year, quakes_pred, color=color)\n",
        "\n",
        "plt.legend([\"Data\", \"0.5\", \"1\", \"5\", \"10\"])\n",
        "plt.show()"
      ]
    }
  ],
  "metadata": {
    "kernelspec": {
      "display_name": "Python 3",
      "language": "python",
      "name": "python3"
    },
    "language_info": {
      "codemirror_mode": {
        "name": "ipython",
        "version": 3
      },
      "file_extension": ".py",
      "mimetype": "text/x-python",
      "name": "python",
      "nbconvert_exporter": "python",
      "pygments_lexer": "ipython3",
      "version": "3.10.2"
    }
  },
  "nbformat": 4,
  "nbformat_minor": 0
}
