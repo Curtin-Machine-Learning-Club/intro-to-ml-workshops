{
  "cells": [
    {
      "cell_type": "code",
      "execution_count": null,
      "metadata": {},
      "outputs": [],
      "source": [
        "%matplotlib inline"
      ]
    },
    {
      "cell_type": "markdown",
      "metadata": {},
      "source": [
        "# Polynomial Regression Example\n",
        "\n",
        "We'll now use a population dataset, but now let's try to fit the data using polynomial regression.\n"
      ]
    },
    {
      "cell_type": "markdown",
      "metadata": {},
      "source": [
        "## Installation\n",
        "\n",
        "First, let's install the required libraries then import them:"
      ]
    },
    {
      "cell_type": "code",
      "execution_count": null,
      "metadata": {},
      "outputs": [],
      "source": [
        "%pip install matplotlib\n",
        "%pip install numpy\n",
        "%pip install sklearn\n",
        "%pip install pandas"
      ]
    },
    {
      "cell_type": "code",
      "execution_count": null,
      "metadata": {},
      "outputs": [],
      "source": [
        "# Import the libraries\n",
        "import matplotlib.pyplot as plt\n",
        "import numpy as np\n",
        "import pandas as pd\n",
        "from sklearn.linear_model import LinearRegression\n",
        "from sklearn.preprocessing import PolynomialFeatures\n",
        "from sklearn.metrics import mean_squared_error, r2_score"
      ]
    },
    {
      "cell_type": "markdown",
      "metadata": {},
      "source": [
        "## Viewing the data\n",
        "\n",
        "Next, let's see the data we're working with"
      ]
    },
    {
      "cell_type": "code",
      "execution_count": null,
      "metadata": {},
      "outputs": [],
      "source": [
        "# Load the population dataset\n",
        "populations = pd.read_csv(\"https://raw.githubusercontent.com/datasets/population/master/data/population.csv\")"
      ]
    },
    {
      "cell_type": "code",
      "execution_count": null,
      "metadata": {},
      "outputs": [],
      "source": [
        "populations.head()"
      ]
    },
    {
      "cell_type": "markdown",
      "metadata": {},
      "source": [
        "## Choosing our input\n",
        "\n",
        "Let's use the level as our input feature and the salary as the output feature.\n",
        "\n",
        "Let's only look at Afghanistan for now."
      ]
    },
    {
      "cell_type": "code",
      "execution_count": null,
      "metadata": {},
      "outputs": [],
      "source": [
        "# Create a variable called year and assign it the Year column of Afghanistan\n",
        "# HINT: Afghanistan has a country code of AFG\n",
        "\n",
        "# Create a variable called pop and assign it the Value column of Afghanistan\n"
      ]
    },
    {
      "cell_type": "markdown",
      "metadata": {},
      "source": [
        "<details><summary>Click to cheat</summary>\n",
        "\n",
        "```python\n",
        "# Create a variable called year and assign it the Year column of Afghanistan\n",
        "# HINT: Afghanistan has a country code of AFG\n",
        "populations2 = populations[populations[\"Country Code\"] == \"AFG\"]\n",
        "year = populations2['Year'].to_numpy()\n",
        "# Create a variable called pop and assign it the Value column of Afghanistan\n",
        "pop = populations2['Value'].to_numpy()\n",
        "```\n",
        "</details>"
      ]
    },
    {
      "cell_type": "markdown",
      "metadata": {},
      "source": [
        "## Observing our Dataset\n",
        "\n",
        "Let's take a look at what the data looks like."
      ]
    },
    {
      "cell_type": "code",
      "execution_count": null,
      "metadata": {},
      "outputs": [],
      "source": [
        "plt.scatter(year, pop)\n",
        "plt.show()"
      ]
    },
    {
      "cell_type": "markdown",
      "metadata": {},
      "source": [
        "## Creating the model"
      ]
    },
    {
      "cell_type": "code",
      "execution_count": null,
      "metadata": {},
      "outputs": [],
      "source": [
        "# choose a degree\n",
        "# degree = \n",
        "\n",
        "# Create polynomial regression object\n",
        "\n",
        "\n",
        "# Transform the model into a linear one\n",
        "\n",
        "\n",
        "# Create the linear model\n",
        "\n",
        "\n",
        "# Train the model using the training sets\n",
        "\n",
        "\n",
        "# Get the predictions\n"
      ]
    },
    {
      "cell_type": "markdown",
      "metadata": {},
      "source": [
        "<details><summary>Click to cheat</summary>\n",
        "\n",
        "```python\n",
        "# choose a degree\n",
        "degree = 3\n",
        "\n",
        "# Create polynomial regression object\n",
        "poly = PolynomialFeatures(degree=degree, include_bias=False)\n",
        "\n",
        "# Transform the model into a linear one\n",
        "year_poly = poly.fit_transform(year.reshape(-1, 1))\n",
        "\n",
        "# Create the linear model\n",
        "model = LinearRegression()\n",
        "\n",
        "# Train the model using the training sets\n",
        "model.fit(year_poly, pop)\n",
        "\n",
        "# Get the predictions\n",
        "pop_pred = model.predict(year_poly)\n",
        "```\n",
        "</details>"
      ]
    },
    {
      "cell_type": "markdown",
      "metadata": {},
      "source": [
        "## Evaluting our model\n",
        "\n",
        "We can print the raw numbers and plot!"
      ]
    },
    {
      "cell_type": "code",
      "execution_count": null,
      "metadata": {},
      "outputs": [],
      "source": [
        "# The weights\n",
        "print(\"Weight:\", model.coef_)\n",
        "# The bais\n",
        "print(\"Bias:\", model.intercept_)\n",
        "# The mean squared error\n",
        "print(\"Mean squared error: %.2f\" % mean_squared_error(pop, pop_pred))\n",
        "# The coefficient of determination: 1 is perfect prediction\n",
        "print(\"Coefficient of determination: %.2f\" % r2_score(pop, pop_pred))"
      ]
    },
    {
      "cell_type": "code",
      "execution_count": null,
      "metadata": {
        "collapsed": false
      },
      "outputs": [],
      "source": [
        "# Plot outputs\n",
        "plt.scatter(year, pop, color=\"black\")\n",
        "plt.scatter(year, pop_pred, color=\"green\")\n",
        "plt.plot(year, pop_pred, color=\"blue\", linewidth=1)\n",
        "\n",
        "plt.xlabel(\"Year\")\n",
        "plt.ylabel(\"Population\")\n",
        "\n",
        "plt.show()"
      ]
    },
    {
      "cell_type": "markdown",
      "metadata": {},
      "source": [
        "## Choosing our degree\n",
        "\n",
        "Now let's be smarter and choose a degree using the BIC."
      ]
    },
    {
      "cell_type": "code",
      "execution_count": null,
      "metadata": {},
      "outputs": [],
      "source": [
        "# Our BIC function\n",
        "def bic(n, k, ssr):\n",
        "    return k * np.log(n) + n * np.log(ssr)\n",
        "\n",
        "# Our squared error function\n",
        "def squared_error(trueY, predY):\n",
        "    return mean_squared_error(trueY, predY) * len(trueY)\n",
        "\n",
        "# Let's create our array of BIC values\n",
        "bics = []\n",
        "for i in range(2, 20):\n",
        "    # Create the model of degree i-1\n",
        "\n",
        "    # Fit the data\n",
        "\n",
        "\n",
        "    # Predict the model\n",
        "\n",
        "\n",
        "    # Calculate the BIC\n",
        "\n",
        "\n",
        "bics = np.array(bics)\n",
        "k = np.arange(2, 20, 1)"
      ]
    },
    {
      "cell_type": "markdown",
      "metadata": {},
      "source": [
        "<details><summary>Click to cheat</summary>\n",
        "\n",
        "```python\n",
        "# Let's create our array of BIC values\n",
        "bics = []\n",
        "for i in range(2, 20):\n",
        "    # Create the model of degree i-1\n",
        "    poly = PolynomialFeatures(degree=i - 1, include_bias=False)\n",
        "    year_poly = poly.fit_transform(year.reshape(-1, 1))\n",
        "    model = LinearRegression()\n",
        "\n",
        "    # Fit the data\n",
        "    model.fit(year_poly, pop)\n",
        "\n",
        "    # Predict the model\n",
        "    pop_pred = model.predict(year_poly)\n",
        "\n",
        "    # Calculate the BIC\n",
        "    ssr = squared_error(pop, pop_pred)\n",
        "    bics.append(bic(len(pop), i, ssr))\n",
        "\n",
        "bics = np.array(bics)\n",
        "k = np.arange(2, 20, 1)\n",
        "\n",
        "```\n",
        "</details>"
      ]
    },
    {
      "cell_type": "code",
      "execution_count": null,
      "metadata": {},
      "outputs": [],
      "source": [
        "plt.close()\n",
        "plt.plot(k, bics, color=\"blue\", linewidth=1)\n",
        "\n",
        "plt.xlabel(\"k\")\n",
        "plt.ylabel(\"BIC\")\n",
        "\n",
        "plt.show()"
      ]
    }
  ],
  "metadata": {
    "kernelspec": {
      "display_name": "Python 3",
      "language": "python",
      "name": "python3"
    },
    "language_info": {
      "codemirror_mode": {
        "name": "ipython",
        "version": 3
      },
      "file_extension": ".py",
      "mimetype": "text/x-python",
      "name": "python",
      "nbconvert_exporter": "python",
      "pygments_lexer": "ipython3",
      "version": "3.10.2"
    }
  },
  "nbformat": 4,
  "nbformat_minor": 0
}
