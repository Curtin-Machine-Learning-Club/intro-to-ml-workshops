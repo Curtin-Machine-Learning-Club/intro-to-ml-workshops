{
  "cells": [
    {
      "cell_type": "code",
      "execution_count": null,
      "metadata": {
        "collapsed": false
      },
      "outputs": [],
      "source": [
        "%matplotlib inline"
      ]
    },
    {
      "cell_type": "markdown",
      "metadata": {},
      "source": [
        "# Polynomial Regression Example\n",
        "\n",
        "We'll still use the diabetes dataset, but noiw let's try to fit the data using polynomial regression.\n"
      ]
    },
    {
      "cell_type": "markdown",
      "metadata": {},
      "source": [
        "## Installation\n",
        "\n",
        "First, let's install the required libraries then import them:"
      ]
    },
    {
      "cell_type": "code",
      "execution_count": null,
      "metadata": {},
      "outputs": [],
      "source": [
        "%pip install matplotlib\n",
        "%pip install numpy\n",
        "%pip install sklearn\n",
        "%pip install pandas"
      ]
    },
    {
      "cell_type": "code",
      "execution_count": null,
      "metadata": {},
      "outputs": [],
      "source": [
        "# Import the libraries\n",
        "import matplotlib.pyplot as plt\n",
        "import numpy as np\n",
        "import pandas as pd\n",
        "from sklearn import datasets\n",
        "from sklearn.linear_model import LinearRegression\n",
        "from sklearn.preprocessing import PolynomialFeatures\n",
        "from sklearn.metrics import mean_squared_error, r2_score"
      ]
    },
    {
      "cell_type": "markdown",
      "metadata": {},
      "source": [
        "## Viewing the data\n",
        "\n",
        "Next, let's see the data we're working with"
      ]
    },
    {
      "cell_type": "code",
      "execution_count": null,
      "metadata": {},
      "outputs": [],
      "source": [
        "# Load the diabetes dataset\n",
        "pos_salaries = pd.read_csv(\"https://raw.githubusercontent.com/2blam/ML/master/decision_tree_regression/Position_Salaries.csv\")"
      ]
    },
    {
      "cell_type": "code",
      "execution_count": null,
      "metadata": {},
      "outputs": [],
      "source": [
        "pos_salaries.head()"
      ]
    },
    {
      "cell_type": "markdown",
      "metadata": {},
      "source": [
        "## Choosing our input\n",
        "\n",
        "Let's use the level as our input feature and the salary as the output feature."
      ]
    },
    {
      "cell_type": "code",
      "execution_count": null,
      "metadata": {},
      "outputs": [],
      "source": [
        "# Create a variable called level and assign it the Level column\n",
        "level = pos_salaries['Level'].to_numpy()\n",
        "# Create a variable called salary and assign it the Salary column\n",
        "salary = pos_salaries[\"Salary\"].to_numpy()"
      ]
    },
    {
      "cell_type": "markdown",
      "metadata": {},
      "source": [
        "<details><summary>Click to cheat</summary>\n",
        "\n",
        "```python\n",
        "# Create a variable called level and assign it the Level column\n",
        "level = pos_salaries['Level'].to_numpy()\n",
        "# Create a variable called salary and assign it the Salary column\n",
        "salary = pos_salaries[\"Salary\"].to_numpy()\n",
        "```\n",
        "</details>"
      ]
    },
    {
      "cell_type": "markdown",
      "metadata": {},
      "source": [
        "## Creating the model"
      ]
    },
    {
      "cell_type": "code",
      "execution_count": null,
      "metadata": {},
      "outputs": [],
      "source": [
        "# choose a degree\n",
        "degree = 3\n",
        "\n",
        "# Create polynomial regression object\n",
        "poly = PolynomialFeatures(degree=degree, include_bias=False)\n",
        "\n",
        "# Transform the model into a linear one\n",
        "level_poly = poly.fit_transform(level.reshape(-1, 1))\n",
        "\n",
        "# Create the linear model\n",
        "model = LinearRegression()\n",
        "\n",
        "# Train the model using the training sets\n",
        "model.fit(level_poly, salary)\n",
        "\n",
        "# Get the predictions\n",
        "salary_pred = model.predict(level_poly)"
      ]
    },
    {
      "cell_type": "markdown",
      "metadata": {},
      "source": [
        "<details><summary>Click to cheat</summary>\n",
        "\n",
        "```python\n",
        "# choose a degree\n",
        "degree = 3\n",
        "\n",
        "# Create polynomial regression object\n",
        "poly = PolynomialFeatures(degree=degree, include_bias=False)\n",
        "\n",
        "# Transform the model into a linear one\n",
        "level_poly = poly.fit_transform(level.reshape(-1, 1))\n",
        "\n",
        "# Create the linear model\n",
        "model = LinearRegression()\n",
        "\n",
        "# Train the model using the training sets\n",
        "model.fit(level_poly, salary)\n",
        "\n",
        "# Get the predictions\n",
        "salary_pred = model.predict(level_poly)\n",
        "```\n",
        "</details>"
      ]
    },
    {
      "cell_type": "markdown",
      "metadata": {},
      "source": [
        "## Evaluting our model\n",
        "\n",
        "We can print the raw numbers and plot!"
      ]
    },
    {
      "cell_type": "code",
      "execution_count": null,
      "metadata": {},
      "outputs": [],
      "source": [
        "# The weights\n",
        "print(\"Weight:\", model.coef_)\n",
        "# The bais\n",
        "print(\"Bias:\", model.intercept_)\n",
        "# The mean squared error\n",
        "print(\"Mean squared error: %.2f\" % mean_squared_error(salary, salary_pred))\n",
        "# The coefficient of determination: 1 is perfect prediction\n",
        "print(\"Coefficient of determination: %.2f\" % r2_score(salary, salary_pred))"
      ]
    },
    {
      "cell_type": "code",
      "execution_count": null,
      "metadata": {
        "collapsed": false
      },
      "outputs": [],
      "source": [
        "# Plot outputs\n",
        "plt.scatter(level, salary, color=\"black\")\n",
        "plt.scatter(level, salary_pred, color=\"green\")\n",
        "plt.plot(level, salary_pred, color=\"blue\", linewidth=1)\n",
        "\n",
        "plt.xlabel(\"Level\")\n",
        "plt.ylabel(\"Salary ($)\")\n",
        "\n",
        "plt.show()"
      ]
    },
    {
      "cell_type": "markdown",
      "metadata": {},
      "source": [
        "## Choosing our degree\n",
        "\n",
        "Now let's be smarter and choose a degree using the BIC."
      ]
    },
    {
      "cell_type": "code",
      "execution_count": null,
      "metadata": {},
      "outputs": [],
      "source": [
        "# Our BIC function\n",
        "def bic(n, k, ssr):\n",
        "    return k * np.log(n) + n * np.log(ssr)\n",
        "\n",
        "# Our squared error function\n",
        "def squared_error(trueY, predY):\n",
        "    return mean_squared_error(trueY, predY) * len(trueY)\n",
        "\n",
        "# Let's create our array of BIC values\n",
        "bics = []\n",
        "for i in range(2, 20):\n",
        "    # Create the model of degree i-1\n",
        "\n",
        "    # Fit the data\n",
        "\n",
        "    # Predict the model\n",
        "\n",
        "    # Calculate the BIC\n",
        "\n",
        "bics = np.array(bics)\n",
        "k = np.arange(2, 20, 1)"
      ]
    },
    {
      "cell_type": "markdown",
      "metadata": {},
      "source": [
        "<details><summary>Click to cheat</summary>\n",
        "\n",
        "```python\n",
        "# Let's create our array of BIC values\n",
        "bics = []\n",
        "for i in range(2, 20):\n",
        "    # Create the model of degree i-1\n",
        "    poly = PolynomialFeatures(degree=i - 1, include_bias=False)\n",
        "    level_poly = poly.fit_transform(level.reshape(-1, 1))\n",
        "    model = LinearRegression()\n",
        "\n",
        "    # Fit the data\n",
        "    model.fit(level_poly, salary)\n",
        "\n",
        "    # Predict the model\n",
        "    salary_pred = model.predict(level_poly)\n",
        "\n",
        "    # Calculate the BIC\n",
        "    ssr = squared_error(salary, salary_pred)\n",
        "    bics.append(bic(len(salary), i, ssr))\n",
        "\n",
        "bics = np.array(bics)\n",
        "k = np.arange(2, 20, 1)\n",
        "\n",
        "```\n",
        "</details>"
      ]
    },
    {
      "cell_type": "code",
      "execution_count": null,
      "metadata": {},
      "outputs": [],
      "source": [
        "plt.close()\n",
        "plt.plot(k, bics, color=\"blue\", linewidth=1)\n",
        "\n",
        "plt.xlabel(\"k\")\n",
        "plt.ylabel(\"BIC\")\n",
        "\n",
        "plt.show()"
      ]
    }
  ],
  "metadata": {
    "kernelspec": {
      "display_name": "Python 3",
      "language": "python",
      "name": "python3"
    },
    "language_info": {
      "codemirror_mode": {
        "name": "ipython",
        "version": 3
      },
      "file_extension": ".py",
      "mimetype": "text/x-python",
      "name": "python",
      "nbconvert_exporter": "python",
      "pygments_lexer": "ipython3",
      "version": "3.7.3"
    }
  },
  "nbformat": 4,
  "nbformat_minor": 0
}
