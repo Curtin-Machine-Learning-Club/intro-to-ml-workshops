{
 "cells": [
  {
   "cell_type": "markdown",
   "metadata": {},
   "source": [
    "# Clustering: DBSCAN\n",
    "\n",
    "Now let's try using DBSCAN for more challenging cluster shapes.\n",
    "\n",
    "DBSCAN is not as popular as K-Means, but it vital for irregular cluster shapes. Other clustering algorithms, like K-Means, struggle with irregular cluster shapes.\n",
    "\n",
    "References:<br>\n",
    "Scikit-learn DBSCAN: https://scikit-learn.org/stable/modules/generated/sklearn.cluster.DBSCAN.html <br>\n",
    "Tutorial for DBSCAN Clustering in Python Sklearn: https://machinelearningknowledge.ai/tutorial-for-dbscan-clustering-in-python-sklearn/ <br>\n",
    "Comparing different clustering algorithms on toy datasets: https://scikit-learn.org/stable/auto_examples/cluster/plot_cluster_comparison.html#sphx-glr-auto-examples-cluster-plot-cluster-comparison-py"
   ]
  },
  {
   "cell_type": "markdown",
   "metadata": {},
   "source": [
    "## Installation"
   ]
  },
  {
   "cell_type": "code",
   "execution_count": null,
   "metadata": {},
   "outputs": [],
   "source": [
    "%pip install numpy\n",
    "%pip install matplotlib\n",
    "%pip install sklearn\n",
    "%pip install seaborn\n",
    "%pip install -U matplotlib"
   ]
  },
  {
   "cell_type": "code",
   "execution_count": null,
   "metadata": {},
   "outputs": [],
   "source": [
    "import numpy as np\n",
    "import matplotlib.pyplot as plt\n",
    "import seaborn as sns\n",
    "from sklearn import datasets\n",
    "from sklearn.cluster import DBSCAN, KMeans\n",
    "from sklearn.metrics import silhouette_score, v_measure_score"
   ]
  },
  {
   "cell_type": "markdown",
   "metadata": {},
   "source": [
    "## Identifying Moon Clusters\n",
    "\n",
    "Let's make some moon clusters and try to cluster them."
   ]
  },
  {
   "cell_type": "markdown",
   "metadata": {},
   "source": [
    "### Viewing our moons\n",
    "\n",
    "Let's create the data and see what it looks like."
   ]
  },
  {
   "cell_type": "code",
   "execution_count": null,
   "metadata": {},
   "outputs": [],
   "source": [
    "# Generate the moons with 500 samples and a noise of 0.1\n",
    "\n",
    "\n",
    "# plot the data\n",
    "plt.scatter(X[:, 0], X[:, 1], c=y, label=y)\n",
    "plt.xlabel(\"$x_1$\")\n",
    "plt.ylabel(\"$x_2$\")\n",
    "plt.title(\"Ground truth clusters\")"
   ]
  },
  {
   "cell_type": "markdown",
   "metadata": {},
   "source": [
    "<details><summary>Click to cheat</summary>\n",
    "\n",
    "```python\n",
    "# Generate the moons with 500 samples and a noise of 0.1\n",
    "X, y = datasets.make_moons(500, noise=0.1)\n",
    "\n",
    "# plot the data\n",
    "plt.scatter(X[:, 0], X[:, 1], c=y, label=y)\n",
    "plt.xlabel(\"$x_1$\")\n",
    "plt.ylabel(\"$x_2$\")\n",
    "plt.title(\"Ground truth clusters\")\n",
    "```\n",
    "</details>"
   ]
  },
  {
   "cell_type": "markdown",
   "metadata": {},
   "source": [
    "### Creating our clusterers"
   ]
  },
  {
   "cell_type": "code",
   "execution_count": null,
   "metadata": {},
   "outputs": [],
   "source": [
    "# Choose your hyperparameters\n",
    "# k = \n",
    "# eps = \n",
    "# minPts = \n",
    "\n",
    "# Create the models with/without neighbourhood component analysis\n",
    "models = [\n",
    "    # Create a K-means clusterer\n",
    "    \n",
    "    # Create a DBSCAN clusterer\n",
    "    \n",
    "]\n",
    "\n",
    "# Train the models and store in a list called models2\n"
   ]
  },
  {
   "cell_type": "markdown",
   "metadata": {},
   "source": [
    "<details><summary>Click to cheat</summary>\n",
    "\n",
    "```python\n",
    "# Choose your hyperparameters\n",
    "k = 2\n",
    "eps = 0.1639\n",
    "minPts = 8\n",
    "\n",
    "# Create the models with/without neighbourhood component analysis\n",
    "models = [\n",
    "    # Create a K-means clusterer\n",
    "    KMeans(k),\n",
    "    # Create a DBSCAN clusterer\n",
    "    DBSCAN(eps, min_samples=minPts)\n",
    "]\n",
    "\n",
    "# Train the models and store in a list called models2\n",
    "models2 = [model.fit(X) for model in models]\n",
    "```\n",
    "</details>"
   ]
  },
  {
   "cell_type": "markdown",
   "metadata": {},
   "source": [
    "### Plotting the Clusters"
   ]
  },
  {
   "cell_type": "code",
   "execution_count": null,
   "metadata": {},
   "outputs": [],
   "source": [
    "titles = (\n",
    "    f\"K-Means with k = {k}\",\n",
    "    f\"DBSCAN with eps = {eps} and minPts = {minPts}\"\n",
    ")\n",
    "\n",
    "# Set-up 1xlen(models) grid for plotting.\n",
    "fig, sub = plt.subplots(nrows=1, ncols=len(models2), figsize=(5 * len(models2), 5),\n",
    "        constrained_layout=True)\n",
    "\n",
    "x_min, x_max = X[:, 0].min() - 0.1, X[:, 0].max() + 0.1\n",
    "y_min, y_max = X[:, 1].min() - 0.1, X[:, 1].max() + 0.1\n",
    "\n",
    "for title, model, ax in zip(titles, models2, sub.flatten()):\n",
    "    labels = model.labels_\n",
    "    ax.scatter(X[:,0], X[:,1], c=labels, label=y)\n",
    "    ax.set_xlim(x_min, x_max)\n",
    "    ax.set_ylim(y_min, y_max)\n",
    "\n",
    "    n_clusters = len(set(labels)) - (1 if -1 in labels else 0)\n",
    "    n_noise = list(model.labels_).count(-1)\n",
    "    ax.title.set_text(f\"{title}\\nNum clusters = {n_clusters}, Num noise = {n_noise}\")\n",
    "    \n",
    "    v_meas = v_measure_score(y, labels)\n",
    "    ax.text(\n",
    "        0.9, 0.1,\n",
    "        f\"{v_meas:.2f}\",\n",
    "        size=15,\n",
    "        ha=\"center\",\n",
    "        va=\"center\",\n",
    "        transform=ax.transAxes,\n",
    "    )\n",
    "\n",
    "plt.show()"
   ]
  },
  {
   "cell_type": "markdown",
   "metadata": {},
   "source": [
    "### Optimising min distance $\\varepsilon$\n",
    "\n",
    "DBSCAN involves using a hyperparameter $\\varepsilon$, which is annoying to adjust and very sensitive.\n",
    "\n",
    "What we need is an automated way of finding the ideal $\\varepsilon$. This ideal value is found by looking for the \"elbow point\"."
   ]
  },
  {
   "cell_type": "code",
   "execution_count": null,
   "metadata": {},
   "outputs": [],
   "source": [
    "%pip install kneed"
   ]
  },
  {
   "cell_type": "code",
   "execution_count": null,
   "metadata": {},
   "outputs": [],
   "source": [
    "from kneed import KneeLocator\n",
    "from sklearn.neighbors import NearestNeighbors\n",
    "import pandas as pd\n",
    "\n",
    "# We need the data as a Pandas DataFrame\n",
    "df = pd.DataFrame(X, y)\n",
    "df = df.rename(columns={0: \"X1\", 1: \"X2\"})\n",
    "\n",
    "# Create a Nearest Neighbors to find the best eps\n",
    "nn = NearestNeighbors(n_neighbors=11)\n",
    "neighbors = nn.fit(df)\n",
    "distances, indices = neighbors.kneighbors(df)\n",
    "distances = np.sort(distances[:,10], axis=0)\n",
    "\n",
    "# Find the knee\n",
    "i = np.arange(len(distances))\n",
    "knee = KneeLocator(i, distances, S=1, curve=\"convex\", direction=\"increasing\", interp_method=\"polynomial\")\n",
    "idealDist = distances[knee.knee]\n",
    "\n",
    "# Plot the distances\n",
    "fig = plt.figure(figsize=(5, 5))\n",
    "knee.plot_knee()\n",
    "plt.xlabel(\"Points\")\n",
    "plt.ylabel(\"Distance\")\n",
    "plt.text(\n",
    "    -0.7, 0.8,\n",
    "    f\"Knee distance = {idealDist:.4f}\",\n",
    "    size=15,\n",
    "    ha=\"center\",\n",
    "    va=\"center\",\n",
    "    transform=ax.transAxes,\n",
    ")\n",
    "plt.show()\n"
   ]
  },
  {
   "cell_type": "markdown",
   "metadata": {},
   "source": [
    "## Circle Clusters\n",
    "\n",
    "Similarly, DBSCAN also works wonders for circular clusters"
   ]
  },
  {
   "cell_type": "markdown",
   "metadata": {},
   "source": [
    "### Generating the data\n",
    "\n",
    "First things first, we need to generate the data. Let's also what it looks like."
   ]
  },
  {
   "cell_type": "code",
   "execution_count": null,
   "metadata": {},
   "outputs": [],
   "source": [
    "# Generate the circular data using 1500 samples, a factor of 0.5, and noise of 0.1\n",
    "\n",
    "\n",
    "# Plot the data\n",
    "plt.scatter(X[:, 0], X[:, 1], c=y, label=y)\n",
    "plt.xlabel(\"$x_1$\")\n",
    "plt.ylabel(\"$x_2$\")\n",
    "plt.title(\"Ground truth clusters\")"
   ]
  },
  {
   "cell_type": "markdown",
   "metadata": {},
   "source": [
    "<details><summary>Click to cheat</summary>\n",
    "\n",
    "```python\n",
    "# Generate the circular data using 1500 samples, a factor of 0.5, and noise of 0.1\n",
    "X, y = datasets.make_circles(1500, factor=0.4, noise=0.1)\n",
    "\n",
    "# Plot the data\n",
    "plt.scatter(X[:, 0], X[:, 1], c=y, label=y)\n",
    "plt.xlabel(\"$x_1$\")\n",
    "plt.ylabel(\"$x_2$\")\n",
    "plt.title(\"Ground truth clusters\")\n",
    "```\n",
    "</details>"
   ]
  },
  {
   "cell_type": "markdown",
   "metadata": {},
   "source": [
    "### Finding the Knee\n",
    "\n",
    "This time, we'll find the knee first."
   ]
  },
  {
   "cell_type": "code",
   "execution_count": null,
   "metadata": {},
   "outputs": [],
   "source": [
    "from kneed import KneeLocator\n",
    "from sklearn.neighbors import NearestNeighbors\n",
    "import pandas as pd\n",
    "\n",
    "# We need the data as a Pandas DataFrame\n",
    "df = pd.DataFrame(X, y)\n",
    "df = df.rename(columns={0: \"X1\", 1: \"X2\"})\n",
    "\n",
    "# Create a Nearest Neighbors to find the best eps\n",
    "nn = NearestNeighbors(n_neighbors=11)\n",
    "neighbors = nn.fit(df)\n",
    "distances, indices = neighbors.kneighbors(df)\n",
    "distances = np.sort(distances[:,10], axis=0)\n",
    "\n",
    "# Find the knee\n",
    "i = np.arange(len(distances))\n",
    "knee = KneeLocator(i, distances, S=1, curve=\"convex\", direction=\"increasing\", interp_method=\"polynomial\")\n",
    "idealDist = distances[knee.knee]\n",
    "\n",
    "# Plot the distances\n",
    "fig = plt.figure(figsize=(5, 5))\n",
    "knee.plot_knee()\n",
    "plt.xlabel(\"Points\")\n",
    "plt.ylabel(\"Distance\")\n",
    "plt.text(\n",
    "    -0.7, 0.8,\n",
    "    f\"Knee distance = {idealDist:.4f}\",\n",
    "    size=15,\n",
    "    ha=\"center\",\n",
    "    va=\"center\",\n",
    "    transform=ax.transAxes,\n",
    ")\n",
    "plt.show()\n"
   ]
  },
  {
   "cell_type": "markdown",
   "metadata": {},
   "source": [
    "### Create the clustering models"
   ]
  },
  {
   "cell_type": "code",
   "execution_count": null,
   "metadata": {},
   "outputs": [],
   "source": [
    "# Choose your hyperparameters\n",
    "k =            # number of clusters\n",
    "eps =     # Ideal distance from above\n",
    "minPts =      # Pick a reasonable minPts\n",
    "\n",
    "# Create the models with/without neighbourhood component analysis\n",
    "models = [\n",
    "    # Create a K-means clusterer\n",
    "    \n",
    "    # Create a DBSCAN clusterer\n",
    "    \n",
    "]\n",
    "\n",
    "# Train the models and store in a list called models2\n"
   ]
  },
  {
   "cell_type": "markdown",
   "metadata": {},
   "source": [
    "<details><summary>Click to cheat</summary>\n",
    "\n",
    "```python\n",
    "# Choose your hyperparameters\n",
    "k = 2           # number of clusters\n",
    "eps = 0.1143    # Ideal distance from above\n",
    "minPts = 14     # Pick a reasonable minPts\n",
    "\n",
    "# Create the models with/without neighbourhood component analysis\n",
    "models = [\n",
    "    # Create a K-means clusterer\n",
    "    KMeans(k),\n",
    "    # Create a DBSCAN clusterer\n",
    "    DBSCAN(eps, min_samples=minPts)\n",
    "]\n",
    "\n",
    "# Train the models and store in a list called models2\n",
    "models2 = [model.fit(X) for model in models]\n",
    "```\n",
    "</details>"
   ]
  },
  {
   "cell_type": "markdown",
   "metadata": {},
   "source": [
    "### Plot the identified clusters"
   ]
  },
  {
   "cell_type": "code",
   "execution_count": null,
   "metadata": {},
   "outputs": [],
   "source": [
    "titles = (\n",
    "    f\"K-Means with k = {k}\",\n",
    "    f\"DBSCAN with eps = {eps} and minPts = {minPts}\"\n",
    ")\n",
    "\n",
    "# Set-up 1xlen(models) grid for plotting.\n",
    "fig, sub = plt.subplots(nrows=1, ncols=len(models2), figsize=(5 * len(models2), 5),\n",
    "        constrained_layout=True)\n",
    "\n",
    "x_min, x_max = X[:, 0].min() - 0.1, X[:, 0].max() + 0.1\n",
    "y_min, y_max = X[:, 1].min() - 0.1, X[:, 1].max() + 0.1\n",
    "\n",
    "for title, model, ax in zip(titles, models2, sub.flatten()):\n",
    "    labels = model.labels_\n",
    "    ax.scatter(X[:,0], X[:,1], c=labels, label=y)\n",
    "    ax.set_xlim(x_min, x_max)\n",
    "    ax.set_ylim(y_min, y_max)\n",
    "\n",
    "    n_clusters = len(set(labels)) - (1 if -1 in labels else 0)\n",
    "    n_noise = list(model.labels_).count(-1)\n",
    "    ax.title.set_text(f\"{title}\\nNum clusters = {n_clusters}, Num noise = {n_noise}\")\n",
    "    \n",
    "    v_meas = v_measure_score(y, labels)\n",
    "    ax.text(\n",
    "        0.9, 0.1,\n",
    "        f\"{v_meas:.2f}\",\n",
    "        size=15,\n",
    "        ha=\"center\",\n",
    "        va=\"center\",\n",
    "        transform=ax.transAxes,\n",
    "    )\n",
    "\n",
    "plt.show()"
   ]
  }
 ],
 "metadata": {
  "interpreter": {
   "hash": "3e8ba394dfecf69ab3b214a23e7e279956d3407d86cf3cc4fe5cfb6d1f0e6e68"
  },
  "kernelspec": {
   "display_name": "Python 3.7.3 64-bit",
   "language": "python",
   "name": "python3"
  },
  "language_info": {
   "codemirror_mode": {
    "name": "ipython",
    "version": 3
   },
   "file_extension": ".py",
   "mimetype": "text/x-python",
   "name": "python",
   "nbconvert_exporter": "python",
   "pygments_lexer": "ipython3",
   "version": "3.7.3"
  },
  "orig_nbformat": 4
 },
 "nbformat": 4,
 "nbformat_minor": 2
}
