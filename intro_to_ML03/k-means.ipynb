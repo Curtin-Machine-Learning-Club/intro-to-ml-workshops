{
 "cells": [
  {
   "cell_type": "markdown",
   "metadata": {},
   "source": [
    "# Clustering: K-means\n",
    "\n",
    "Let's start clustering our data.\n",
    "\n",
    "K-means is *the* clustering algorithm: known for its speed, k-means finds the centers of each cluster given the number of clusters and their initial positions.\n",
    "\n",
    "References:<br>\n",
    "K-means Clustering: https://scikit-learn.org/stable/auto_examples/cluster/plot_cluster_iris.html <br>\n",
    "Color Quantization using K-Means: https://scikit-learn.org/stable/auto_examples/cluster/plot_color_quantization.html <br>"
   ]
  },
  {
   "cell_type": "markdown",
   "metadata": {},
   "source": [
    "## Installation"
   ]
  },
  {
   "cell_type": "code",
   "execution_count": null,
   "metadata": {},
   "outputs": [],
   "source": [
    "%pip install numpy\n",
    "%pip install matplotlib\n",
    "%pip install sklearn\n",
    "%pip install scipy\n",
    "\n",
    "%pip install -U matplotlib"
   ]
  },
  {
   "cell_type": "code",
   "execution_count": null,
   "metadata": {},
   "outputs": [],
   "source": [
    "import numpy as np\n",
    "import matplotlib.pyplot as plt\n",
    "from mpl_toolkits.mplot3d import Axes3D\n",
    "from sklearn.cluster import KMeans\n",
    "from sklearn import datasets"
   ]
  },
  {
   "cell_type": "markdown",
   "metadata": {},
   "source": [
    "## Clustering the Iris dataset\n",
    "\n",
    "Once again, let's use the Iris dataset."
   ]
  },
  {
   "cell_type": "markdown",
   "metadata": {},
   "source": [
    "### Viewing the Iris dataset\n",
    "\n",
    "Let's view the dataset one more time."
   ]
  },
  {
   "cell_type": "code",
   "execution_count": null,
   "metadata": {},
   "outputs": [],
   "source": [
    "iris_x, iris_y = datasets.load_iris(return_X_y=True, as_frame=True)\n",
    "X, y = datasets.load_iris(return_X_y=True)"
   ]
  },
  {
   "cell_type": "code",
   "execution_count": null,
   "metadata": {},
   "outputs": [],
   "source": [
    "iris_x.head()"
   ]
  },
  {
   "cell_type": "code",
   "execution_count": null,
   "metadata": {},
   "outputs": [],
   "source": [
    "iris_y.head()"
   ]
  },
  {
   "cell_type": "markdown",
   "metadata": {},
   "source": [
    "### Choosing our inputs\n",
    "\n",
    "We can plot up to 3D, so let's pick petal width, sepal length, and petal length."
   ]
  },
  {
   "cell_type": "code",
   "execution_count": null,
   "metadata": {},
   "outputs": [],
   "source": [
    "# Filter out the petal width and length and the sepal length, then convert to numpy arrays\n"
   ]
  },
  {
   "cell_type": "markdown",
   "metadata": {},
   "source": [
    "<details><summary>Click to cheat</summary>\n",
    "\n",
    "```python\n",
    "# Filter out the petal width and length and the sepal length, then convert to numpy arrays\n",
    "iris_petal_w = iris_x[\"petal width (cm)\"].to_numpy()\n",
    "iris_petal_l = iris_x[\"petal length (cm)\"].to_numpy()\n",
    "iris_sepal_l = iris_x[\"sepal length (cm)\"].to_numpy()\n",
    "```\n",
    "</details>"
   ]
  },
  {
   "cell_type": "markdown",
   "metadata": {},
   "source": [
    "### Creating our K-means clusterer"
   ]
  },
  {
   "cell_type": "code",
   "execution_count": null,
   "metadata": {},
   "outputs": [],
   "source": [
    "# Based on the number of types of flowers, what should be k be?\n",
    "k =\n",
    "\n",
    "# Create the models\n",
    "models = [\n",
    "    # Create a K-means clusterer with random initialisation\n",
    "    \n",
    "    # Create a K-means clusterer with k-means++ initialisation\n",
    "    \n",
    "    # Create a K-means clusterer with random initialisation and high tol\n",
    "    \n",
    "]\n",
    "\n",
    "# Cluster the data\n",
    "models2 = [model.fit(iris_x.to_numpy()) for model in models]"
   ]
  },
  {
   "cell_type": "markdown",
   "metadata": {},
   "source": [
    "<details><summary>Click to cheat</summary>\n",
    "\n",
    "```python\n",
    "# Based on the number of types of flowers, what should be k be?\n",
    "k = 3\n",
    "\n",
    "# Create the models\n",
    "models = [\n",
    "    # Create a K-means clusterer with random initialisation\n",
    "    KMeans(n_clusters=k, init='random'),\n",
    "    # Create a K-means clusterer with k-means++ initialisation\n",
    "    KMeans(n_clusters=k, init='k-means++'),\n",
    "    # Create a K-means clusterer with random initialisation and high tol\n",
    "    KMeans(n_clusters=k, tol=1e-2)\n",
    "]\n",
    "\n",
    "# Cluster the data\n",
    "models2 = [model.fit(iris_x.to_numpy()) for model in models]\n",
    "```\n",
    "</details>"
   ]
  },
  {
   "cell_type": "markdown",
   "metadata": {},
   "source": [
    "### Plotting the clustered data"
   ]
  },
  {
   "cell_type": "code",
   "execution_count": null,
   "metadata": {},
   "outputs": [],
   "source": [
    "titles = [\"Random init\", \"K-means++\", \"High tolerance\"]\n",
    "for idx, (title, est) in enumerate(zip(titles, models2)):\n",
    "    fig = plt.figure(idx + 1, figsize=(4, 3))\n",
    "    ax = Axes3D(fig, rect=[0, 0, 0.95, 1], elev=48, azim=134)\n",
    "    est.fit(iris_x.to_numpy())\n",
    "    labels = est.labels_\n",
    "\n",
    "    ax.scatter(iris_petal_w, iris_sepal_l, iris_petal_l, c=labels.astype(float), edgecolor=\"k\")\n",
    "\n",
    "    ax.w_xaxis.set_ticklabels([])\n",
    "    ax.w_yaxis.set_ticklabels([])\n",
    "    ax.w_zaxis.set_ticklabels([])\n",
    "    ax.set_xlabel(\"Petal width\")\n",
    "    ax.set_ylabel(\"Sepal length\")\n",
    "    ax.set_zlabel(\"Petal length\")\n",
    "    ax.set_title(title)\n",
    "    ax.dist = 12\n",
    "\n",
    "# Plot the ground truth\n",
    "fig = plt.figure(len(models2) + 1, figsize=(4, 3))\n",
    "ax = Axes3D(fig, rect=[0, 0, 0.95, 1], elev=48, azim=134)\n",
    "\n",
    "for name, label in [(\"Setosa\", 0), (\"Versicolour\", 1), (\"Virginica\", 2)]:\n",
    "    ax.text3D(\n",
    "        iris_petal_w[y == label].mean(),\n",
    "        iris_sepal_l[y == label].mean(),\n",
    "        iris_petal_l[y == label].mean() + 2,\n",
    "        name,\n",
    "        horizontalalignment=\"center\",\n",
    "        bbox=dict(alpha=0.2, edgecolor=\"w\", facecolor=\"w\"),\n",
    "    )\n",
    "# Reorder the labels to have colors matching the cluster results\n",
    "y = np.choose(y, [1, 2, 0]).astype(float)\n",
    "ax.scatter(X[:, 3], X[:, 0], X[:, 2], c=y, edgecolor=\"k\")\n",
    "\n",
    "ax.w_xaxis.set_ticklabels([])\n",
    "ax.w_yaxis.set_ticklabels([])\n",
    "ax.w_zaxis.set_ticklabels([])\n",
    "ax.set_xlabel(\"Petal width\")\n",
    "ax.set_ylabel(\"Sepal length\")\n",
    "ax.set_zlabel(\"Petal length\")\n",
    "ax.set_title(\"Ground Truth\")\n",
    "ax.dist = 12\n",
    "\n",
    "fig.show()"
   ]
  },
  {
   "cell_type": "markdown",
   "metadata": {},
   "source": [
    "## Colour Quantization Using K-Means\n",
    "\n",
    "We can also use K-means to compress an image into it's core colours."
   ]
  },
  {
   "cell_type": "markdown",
   "metadata": {},
   "source": [
    "### Loading the China image\n",
    "\n",
    "First things first, we need to load the image."
   ]
  },
  {
   "cell_type": "code",
   "execution_count": null,
   "metadata": {},
   "outputs": [],
   "source": [
    "# Load the raw image\n",
    "\n",
    "\n",
    "# Convert from 8-bit ints to floats from 0-1\n"
   ]
  },
  {
   "cell_type": "markdown",
   "metadata": {},
   "source": [
    "<details><summary>Click to cheat</summary>\n",
    "\n",
    "```python\n",
    "# Load the raw image\n",
    "china = datasets.load_sample_image(\"china.jpg\")\n",
    "\n",
    "# Convert from 8-bit ints to floats from 0-1\n",
    "china = np.array(china, dtype=np.float64) / 255.0\n",
    "```\n",
    "</details>"
   ]
  },
  {
   "cell_type": "markdown",
   "metadata": {},
   "source": [
    "Let's see what the original image looks like"
   ]
  },
  {
   "cell_type": "code",
   "execution_count": null,
   "metadata": {},
   "outputs": [],
   "source": [
    "plt.figure(1)\n",
    "plt.clf()\n",
    "plt.axis(\"off\")\n",
    "plt.title(\"Original image (96,615 colors)\")\n",
    "plt.imshow(china)"
   ]
  },
  {
   "cell_type": "markdown",
   "metadata": {},
   "source": [
    "### Create the model"
   ]
  },
  {
   "cell_type": "code",
   "execution_count": null,
   "metadata": {},
   "outputs": [],
   "source": [
    "# Convert to an array where each row is a pixel and each column is a RGB channel\n",
    "\n",
    "\n",
    "# Randomly shuffle the image\n",
    "\n",
    "\n",
    "# Create the K-means clusterer\n",
    "\n",
    "\n",
    "\n",
    "# Load the data into the model\n"
   ]
  },
  {
   "cell_type": "markdown",
   "metadata": {},
   "source": [
    "<details><summary>Click to cheat</summary>\n",
    "\n",
    "```python\n",
    "# Convert to an array where each row is a pixel and each column is a RGB channel\n",
    "w, h, d = china.shape\n",
    "china2 = np.reshape(china, (w * h, d))\n",
    "\n",
    "# Randomly shuffle the image\n",
    "img_rand = shuffle(china2, random_state=0, n_samples=1000)\n",
    "\n",
    "# Create the K-means clusterer\n",
    "n_colours = 64\n",
    "kmeans = KMeans(n_clusters=n_colours, random_state=0)\n",
    "\n",
    "# Load the data into the model\n",
    "kmeans.fit(img_rand)\n",
    "```\n",
    "</details>"
   ]
  },
  {
   "cell_type": "markdown",
   "metadata": {},
   "source": [
    "### Test the model\n",
    "\n",
    "Let's see how our model has compressed our image"
   ]
  },
  {
   "cell_type": "code",
   "execution_count": null,
   "metadata": {},
   "outputs": [],
   "source": [
    "# Get the labels from our model\n",
    "labels = kmeans.predict(china2)\n",
    "\n",
    "def recreate_image(codebook, labels, w, h):\n",
    "    \"\"\"Recreate the (compressed) image from the code book & labels\"\"\"\n",
    "    return codebook[labels].reshape(w, h, -1)\n",
    "\n",
    "plt.figure(2)\n",
    "plt.clf()\n",
    "plt.axis(\"off\")\n",
    "plt.title(f\"Quantized image ({n_colours} colors, K-Means)\")\n",
    "plt.imshow(recreate_image(kmeans.cluster_centers_, labels, w, h))"
   ]
  },
  {
   "cell_type": "markdown",
   "metadata": {},
   "source": [
    "## Finding the optimal number of clusters\n",
    "\n",
    "Now we can optimise our compression by finding the elbow point."
   ]
  },
  {
   "cell_type": "markdown",
   "metadata": {},
   "source": [
    "### Laoding the China image"
   ]
  },
  {
   "cell_type": "code",
   "execution_count": null,
   "metadata": {},
   "outputs": [],
   "source": [
    "# Load the raw image\n",
    "china = datasets.load_sample_image(\"china.jpg\")\n",
    "\n",
    "# Convert from 8-bit ints to floats from 0-1\n",
    "china = np.array(china, dtype=np.float64) / 255.0\n",
    "\n",
    "# Reshape the image so that each row is a pixel and each column is a RGB value\n",
    "w, h, d = china.shape\n",
    "china2 = np.reshape(china, (w * h, d))"
   ]
  },
  {
   "cell_type": "markdown",
   "metadata": {},
   "source": [
    "### Calculate the Sum of Squared Errors and Silhouette Scores"
   ]
  },
  {
   "cell_type": "code",
   "execution_count": null,
   "metadata": {},
   "outputs": [],
   "source": [
    "# There are a lot of colours in the original image, so\n",
    "# let's try various k values across a large range with a large step\n",
    "\n",
    "\n",
    "# Create an array to store the SSE values\n",
    "\n",
    "\n",
    "# Iterate through the different K-Means models, calculating the SSE\n",
    "for i, k in enumerate(K):\n",
    "\n",
    "\n",
    "\n"
   ]
  },
  {
   "cell_type": "markdown",
   "metadata": {},
   "source": [
    "<details><summary>Click to cheat</summary>\n",
    "\n",
    "```python\n",
    "# There are a lot of colours in the original image, so\n",
    "# let's try various k values across a large range with a large step\n",
    "K = np.arange(10, 71, 10)\n",
    "\n",
    "# Create an array to store the SSE values\n",
    "sse = np.ndarray(len(K), dtype=float)\n",
    "\n",
    "# Iterate through the different K-Means models, calculating the SSE\n",
    "for i, k in enumerate(K):\n",
    "    kmeans = KMeans(n_clusters=k).fit(china2)\n",
    "    labels = kmeans.predict(china2)\n",
    "    sse[i] = kmeans.inertia_\n",
    "\n",
    "```\n",
    "</details>"
   ]
  },
  {
   "cell_type": "markdown",
   "metadata": {},
   "source": [
    "### Plot the graph"
   ]
  },
  {
   "cell_type": "code",
   "execution_count": null,
   "metadata": {},
   "outputs": [],
   "source": [
    "plt.figure()\n",
    "plt.add_subplot(121)\n",
    "plt.plot(K, sse, label=\"Sum of Squared error\")\n",
    "plt.xlabel(\"Number of clusters\")\n",
    "plt.ylabel(\"SSE\")\n",
    "plt.xticks(K)\n",
    "plt.legend()\n",
    "\n",
    "plt.subplot(122)\n",
    "plt.plot(K, ss)\n",
    "plt.show()"
   ]
  },
  {
   "cell_type": "markdown",
   "metadata": {},
   "source": [
    "### Generate the compressed image"
   ]
  },
  {
   "cell_type": "code",
   "execution_count": null,
   "metadata": {},
   "outputs": [],
   "source": [
    "# create the model\n",
    "k = 35\n",
    "kmeans = KMeans(n_clusters=k)\n",
    "\n",
    "# insert the data\n",
    "kmeans.fit(china2)\n",
    "\n",
    "# Get the labels from our model\n",
    "labels = kmeans.predict(china2)\n",
    "\n",
    "def recreate_image(codebook, labels, w, h):\n",
    "    \"\"\"Recreate the (compressed) image from the code book & labels\"\"\"\n",
    "    return codebook[labels].reshape(w, h, -1)\n",
    "\n",
    "plt.figure(2)\n",
    "plt.clf()\n",
    "plt.axis(\"off\")\n",
    "plt.title(f\"Optimal quantized image ({k} colors, K-Means)\")\n",
    "plt.imshow(recreate_image(kmeans.cluster_centers_, labels, w, h))"
   ]
  }
 ],
 "metadata": {
  "interpreter": {
   "hash": "3e8ba394dfecf69ab3b214a23e7e279956d3407d86cf3cc4fe5cfb6d1f0e6e68"
  },
  "kernelspec": {
   "display_name": "Python 3.7.3 64-bit",
   "language": "python",
   "name": "python3"
  },
  "language_info": {
   "codemirror_mode": {
    "name": "ipython",
    "version": 3
   },
   "file_extension": ".py",
   "mimetype": "text/x-python",
   "name": "python",
   "nbconvert_exporter": "python",
   "pygments_lexer": "ipython3",
   "version": "3.10.2"
  },
  "orig_nbformat": 4
 },
 "nbformat": 4,
 "nbformat_minor": 2
}
